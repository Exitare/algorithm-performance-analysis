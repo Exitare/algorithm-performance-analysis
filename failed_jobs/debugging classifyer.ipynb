{
 "cells": [
  {
   "cell_type": "code",
   "execution_count": null,
   "metadata": {},
   "outputs": [],
   "source": [
    "import argparse\n",
    "import scipy\n",
    "from sklearn.externals import joblib\n",
    "import math\n",
    "\n",
    "import pandas as pd\n",
    "\n",
    "from sklearn import preprocessing\n",
    "from sklearn_pandas import gen_features\n",
    "from sklearn_pandas import DataFrameMapper\n",
    "\n",
    "from sklearn import ensemble\n",
    "import sklearn\n",
    "import numpy as np\n",
    "from matplotlib import pyplot as plt\n",
    "from preprocessing import ChooseFeatureColumns\n",
    "from preprocessing import MyMapper\n",
    "import ast\n",
    "import os\n",
    "import skgarden\n",
    "\n",
    "import mysql.connector\n",
    "from tabulate import tabulate\n",
    "\n",
    "cnx = mysql.connector.connect(user='root', password='root',\n",
    "                              host='localhost',\n",
    "                              database='datadump')\n",
    "cursor = cnx.cursor()\n",
    "\n",
    "class TrainModel(object):\n",
    "\n",
    "    def __init__(self, filename):\n",
    "\n",
    "        try:\n",
    "            self.df=pd.read_csv(\"data/csv_dump/%s.csv\"%filename)\n",
    "        except FileNotFoundError as e:\n",
    "            print(\"dont have this file yet\")\n",
    "            return\n",
    "        df2=pd.read_csv(\"failed_jobs/walltime_csv/%s.csv\"%filename)\n",
    "        # df3=pd.read_csv(\"failed_jobs/memory_csv/%s.csv\"%filename)\n",
    "        self.df[\"result\"], df2[\"result\"]=\"ok\", \"walltime error\"\n",
    "\n",
    "        self.df.index=self.df[\"id\"]\n",
    "        df2.index=df2[\"id\"]\n",
    "        self.df=pd.concat([self.df,df2])\n",
    "        self.df=self.df.sort_values(\"id\")\n",
    "        del self.df[\"id\"]\n",
    "        self.df=self.df.reset_index()\n",
    "\n",
    "        self.df=self.remove_bad_columns(self.df)\n",
    "        self.df=self.remove_bad_columns(self.df)\n",
    "\n",
    "        num_errors=df2.shape[0]\n",
    "        df_features, df_labels = self.df, self.df.pop(\"result\")\n",
    "        num_instances=len(df_labels)\n",
    "\n",
    "        original_num_of_cols=df_features.shape[1]\n",
    "        ################################################\n",
    "        ################################################\n",
    "        # prepare the data for the RandomForestRegressor\n",
    "        print(\"setting up...\")\n",
    "        chooser = ChooseFeatureColumns()\n",
    "        scaler = MyMapper()\n",
    "        # regr = sklearn.ensemble.RandomForestRegressor(n_estimators=100, max_depth=12)\n",
    "        self.regr=sklearn.ensemble.RandomForestClassifier(n_estimators=100, max_depth=12)\n",
    "\n",
    "        self.pipe = sklearn.pipeline.Pipeline([\n",
    "            ('chooser',chooser),\n",
    "            ('scaler', scaler),\n",
    "        ])\n",
    "        # ################################################\n",
    "        test_size = 0.2\n",
    "        test_start=len(df_labels)-int(len(df_labels)*test_size)\n",
    " \n",
    "        split_randomly=False\n",
    "        time_split=num_instances>10\n",
    "        if split_randomly and time_split:\n",
    "            tr_features, ev_features, tr_labels, ev_labels = sklearn.model_selection.train_test_split(df_features, df_labels, test_size=test_size)\n",
    "            print(\"splitting randomly\")\n",
    "        elif time_split:\n",
    "            tr_features, tr_labels, ev_features, ev_labels = df_features[:test_start], df_labels[:test_start], df_features[test_start:], df_labels[test_start:]\n",
    "            print(\"splitting non-randomly\")\n",
    "        if time_split and ((len(list(self.pipe.fit_transform(tr_features)))) != (len(list(self.pipe.transform(ev_features))))):\n",
    "            print(\"!! pipe transformation broken\")\n",
    "            time_split=False\n",
    "        # ################################################\n",
    "\n",
    "        df_features=self.pipe.fit_transform(df_features)\n",
    "        print(\"%r ----> %r\" %(original_num_of_cols,df_features.shape[1]))\n",
    "        if float(df_features.shape[1])/float(original_num_of_cols)>10:\n",
    "            print(\"GREATER THAN 10\")\n",
    "\n",
    "        if time_split:\n",
    "            tr_features=self.pipe.fit_transform(tr_features)\n",
    "            ev_features=self.pipe.transform(ev_features)\n",
    "             \n",
    "        self.table=\"walltime_classify\"\n",
    "\n",
    "        accuracy=self.analysis(filename, df_features, df_labels, df_features, df_labels, timesplit=False)\n",
    "        print(\"whole accuracy: %r\" % accuracy)\n",
    "        if time_split:\n",
    "            accuracy2 = self.analysis(filename, tr_features, tr_labels, ev_features, ev_labels, timesplit=True)\n",
    "            print(\"time accuracy: %r\" % accuracy2)\n",
    "            \n",
    "            metrics={\"toolid\": filename, \"num_instances\":num_instances,\n",
    "                    \"accuracy\": accuracy, \"accuracy_time\":accuracy2, \"num_errors\":num_errors}\n",
    "            print(tabulate(sorted([(k,v) for k,v in metrics.items()])))\n",
    "            command = '''INSERT INTO walltime_classify (toolid, num_instances, accuracy, accuracy_time_split, num_walltime_errors) \n",
    "                            \n",
    "                            VALUES (%(toolid)s, %(num_instances)s, %(accuracy)s,%(accuracy_time)s,%(num_errors)s)\n",
    "                            \n",
    "                            ON DUPLICATE KEY UPDATE num_instances=%(num_instances)s, accuracy=%(accuracy)s, \n",
    "                            accuracy_time_split=%(accuracy_time)s, num_walltime_errors=%(num_errors)s;\n",
    "                            '''\n",
    "        else:\n",
    "            metrics={\"toolid\": filename, \"num_instances\":num_instances, \"accuracy\": accuracy, \"num_errors\":num_errors}\n",
    "            command = '''INSERT INTO walltime_classify (toolid, num_instances, accuracy, num_walltime_errors) \n",
    "                            \n",
    "                            VALUES (%(toolid)s, %(num_instances)s, %(accuracy)s, %(num_errors)s)\n",
    "                            \n",
    "                            ON DUPLICATE KEY UPDATE num_instances=%(num_instances)s, accuracy=%(accuracy)s, num_walltime_errors=%(num_errors)s;\n",
    "                            '''\n",
    "        # print(tabulate(sorted([(k,v) for k,v in metrics.items()])))\n",
    "        cursor.execute(command, metrics)\n",
    "        cnx.commit()\n",
    "        \n",
    "        print(\"done\")\n",
    "        \n",
    "    def remove_bad_columns(self, df):\n",
    "        parameters = [i for i in list(df) if (i.startswith(\"parameters.\") and not i.startswith(\"parameters.__job_r\"))]\n",
    "        filetypes=[i for i in list(df) if (i.endswith(\"_filetype\") and not i.startswith(\"parameters.__job_r\"))]\n",
    "        files=[i[:-9] for i in filetypes]\n",
    "        bad_parameters=[\"parameters.__workflow_invocation_uuid__\",\"parameters.chromInfo\"]\n",
    "        for parameter in parameters:\n",
    "            series=df[parameter].dropna()\n",
    "            if all(type(item)==str and item.startswith('\"') for item in series): \n",
    "                try:\n",
    "                    df[parameter]=df[parameter].str[1:-1].astype(float)\n",
    "                except:\n",
    "                    pass\n",
    "            if len(df[parameter].unique())>=0.5*df.shape[0]:\n",
    "                bad_parameters.append(parameter)\n",
    "            if df[parameter].dtype == object and len(df[parameter].unique())>=10*df.shape[1]:\n",
    "                bad_parameters.append(parameter)\n",
    "            if all(type(item)==str and item.startswith(\"[\") and item.endswith(\"]\") for item in series):#  and item.startswith(\"[{'src'\")\n",
    "                if all(type(ast.literal_eval(item))==list for item in series):\n",
    "                    bad_parameters.append(parameter)\n",
    "        for file in files:\n",
    "            bad_parameters.append(\"parameters.\"+file)\n",
    "            bad_parameters.append(\"parameters.\"+file+\".values\")\n",
    "            bad_parameters.append(\"parameters.\"+file+\"|__identifier__\")\n",
    "        for param in set(bad_parameters):\n",
    "            try:\n",
    "                parameters.remove(param)\n",
    "            except:\n",
    "                pass\n",
    "        hardware=['destination_id',\n",
    "         'galaxy_slots',\n",
    "         'handler',\n",
    "         'job_runner_name',\n",
    "         'memtotal',\n",
    "         'processor_count',\n",
    "         'result']\n",
    "        keep=parameters+filetypes+files+hardware\n",
    "        columns=list(df)\n",
    "        for column in columns:\n",
    "            if not column in keep:\n",
    "                del df[column]\n",
    "        return df\n",
    "        \n",
    "    def analysis(self, filename, tr_features, tr_labels, ev_features, ev_labels, timesplit=False):\n",
    "        self.regr.fit(tr_features,tr_labels)\n",
    "        ev_pred = self.regr.predict(ev_features)\n",
    "        accuracy=sklearn.metrics.accuracy_score(ev_labels,ev_pred) \n",
    "        return float(accuracy)\n",
    "        \n",
    "    def get_accuracy(self, cq):\n",
    "        correct = 0.\n",
    "        i=0\n",
    "        for k, r in cq.iterrows():\n",
    "            if r[\"labels\"] < (r[\"pred\"]+r[\"std\"]) and r[\"labels\"] > (r[\"pred\"]-r[\"std\"]):\n",
    "                correct+=1.\n",
    "            i+=1\n",
    "        \n",
    "\n",
    "        return (correct/cq.shape[0])\n",
    "\n",
    "    def plot(self, cq, filename, timesplit=False):\n",
    "        plot=True\n",
    "        plot_w_error=True\n",
    "        if plot:\n",
    "            plt.figure(figsize=(10,10))\n",
    "            plt.scatter(cq[\"labels\"],cq[\"pred\"])\n",
    "            plt.xlabel(\"Real Runtime\")\n",
    "            plt.ylabel(\"Predicted Runtime\")\n",
    "            plt.title(\"Mean predictions\")\n",
    "            if timesplit:\n",
    "                plt.savefig(\"plots_dump/timesplit/%s.png\"%filename)\n",
    "                print(\"saved a plot to plots_dump/timesplit/%s.png\"%filename)\n",
    "            else:\n",
    "                plt.savefig(\"plots_dump/%s.png\"%filename)\n",
    "                print(\"saved a plot to plots_dump/%s.png\"%filename)\n",
    "            plt.close()\n",
    "        if plot_w_error:\n",
    "            plt.figure(figsize=(10,10))\n",
    "            plt.scatter(cq[\"labels\"],cq[\"pred\"])\n",
    "            plt.errorbar(cq[\"labels\"],cq[\"pred\"], yerr=[cq[\"std\"],cq[\"std\"]], fmt='o')\n",
    "            plt.xlabel(\"Real Runtime\")\n",
    "            plt.ylabel(\"Predicted Runtime\")\n",
    "            plt.title(\"Mean predictions\")\n",
    "            if timesplit:\n",
    "                plt.savefig(\"plots_w_error_dump/timesplit/%s.png\"%filename)\n",
    "                print(\"saved a plot to plots_w_error_dump/timesplit/%s.png\"%filename)\n",
    "            else:\n",
    "                plt.savefig(\"plots_w_error_dump/%s.png\"%filename)\n",
    "                print(\"saved a plot to plots_w_error_dump/%s.png\"%filename)\n",
    "            \n",
    "            plt.close()\n",
    "\n",
    "\n",
    "\n",
    "def getfiles(dirpath):\n",
    "    a = [s for s in os.listdir(dirpath)\n",
    "         if os.path.isfile(os.path.join(dirpath, s))]\n",
    "    a.sort(key=lambda s: os.path.getmtime(os.path.join(dirpath, s)), reverse=True)\n",
    "    return a\n",
    "\n",
    "\n",
    "toolids=getfiles(\"failed_jobs/walltime_csv\")\n",
    "toolids=[i[:-4] for i in toolids]\n",
    "toolids=[\"dummy\"]\n",
    "print(toolids)\n",
    "# toolids=[\"iuc_vsearch_vsearch_masking_1.9.7.0\"]\n",
    "\n",
    "for i in range(len(toolids)):\n",
    "    print(i, toolids[i])\n",
    "    TrainModel(toolids[i])\n",
    "\n",
    "cursor.close()\n",
    "cnx.close()\n"
   ]
  },
  {
   "cell_type": "code",
   "execution_count": 1,
   "metadata": {},
   "outputs": [],
   "source": [
    "import argparse\n",
    "import scipy\n",
    "from sklearn.externals import joblib\n",
    "import math\n",
    "\n",
    "import pandas as pd\n",
    "\n",
    "from sklearn import preprocessing\n",
    "from sklearn_pandas import gen_features\n",
    "from sklearn_pandas import DataFrameMapper\n",
    "\n",
    "from sklearn import ensemble\n",
    "import sklearn\n",
    "import numpy as np\n",
    "from matplotlib import pyplot as plt\n",
    "from preprocessing import ChooseFeatureColumns\n",
    "from preprocessing import MyMapper\n",
    "import ast\n",
    "import os\n",
    "import skgarden\n",
    "\n",
    "import mysql.connector\n",
    "from tabulate import tabulate"
   ]
  },
  {
   "cell_type": "code",
   "execution_count": 59,
   "metadata": {},
   "outputs": [],
   "source": [
    "def remove_bad_columns(df):\n",
    "        parameters = [i for i in list(df) if (i.startswith(\"parameters.\") and not i.startswith(\"parameters.__job_r\"))]\n",
    "        filetypes=[i for i in list(df) if (i.endswith(\"_filetype\") and not i.startswith(\"parameters.__job_r\"))]\n",
    "        files=[i[:-9] for i in filetypes]\n",
    "        bad_parameters=[\"parameters.__workflow_invocation_uuid__\",\"parameters.chromInfo\"]\n",
    "        for parameter in parameters:\n",
    "            series=df[parameter].dropna()\n",
    "            if all(type(item)==str and item.startswith('\"') for item in series): \n",
    "                try:\n",
    "                    df[parameter]=df[parameter].str[1:-1].astype(float)\n",
    "                except:\n",
    "                    pass\n",
    "            if len(df[parameter].unique())>=0.5*df.shape[0]:\n",
    "                bad_parameters.append(parameter)\n",
    "            if df[parameter].dtype == object and len(df[parameter].unique())>=10*df.shape[1]:\n",
    "                bad_parameters.append(parameter)\n",
    "            if all(type(item)==str and item.startswith(\"[\") and item.endswith(\"]\") for item in series):#  and item.startswith(\"[{'src'\")\n",
    "                if all(type(ast.literal_eval(item))==list for item in series):\n",
    "                    bad_parameters.append(parameter)\n",
    "        for file in files:\n",
    "            bad_parameters.append(\"parameters.\"+file)\n",
    "            bad_parameters.append(\"parameters.\"+file+\".values\")\n",
    "            bad_parameters.append(\"parameters.\"+file+\"|__identifier__\")\n",
    "        for param in set(bad_parameters):\n",
    "            try:\n",
    "                parameters.remove(param)\n",
    "            except:\n",
    "                pass\n",
    "        hardware=[\n",
    "#             'destination_id',\n",
    "#          'galaxy_slots',\n",
    "#          'handler',\n",
    "#          'job_runner_name',\n",
    "#          'memtotal',\n",
    "#          'processor_count',\n",
    "         'result']\n",
    "        keep=parameters+filetypes+files+hardware\n",
    "        columns=list(df)\n",
    "        for column in columns:\n",
    "            if not column in keep:\n",
    "                del df[column]\n",
    "        return df"
   ]
  },
  {
   "cell_type": "code",
   "execution_count": 69,
   "metadata": {},
   "outputs": [],
   "source": [
    "filename=\"devteam_picard_picard_MarkDuplicates_1.126.0\"\n",
    "df=pd.read_csv(\"../data/csv_dump/%s.csv\"%filename)\n",
    "df2=pd.read_csv(\"memory_csv/%s.csv\"%filename)"
   ]
  },
  {
   "cell_type": "code",
   "execution_count": 74,
   "metadata": {
    "collapsed": true
   },
   "outputs": [
    {
     "ename": "KeyError",
     "evalue": "'memtotal'",
     "output_type": "error",
     "traceback": [
      "\u001b[0;31m---------------------------------------------------------------------------\u001b[0m",
      "\u001b[0;31mKeyError\u001b[0m                                  Traceback (most recent call last)",
      "\u001b[0;32m~/development/ber1/.venv/lib/python3.6/site-packages/pandas/core/indexes/base.py\u001b[0m in \u001b[0;36mget_loc\u001b[0;34m(self, key, method, tolerance)\u001b[0m\n\u001b[1;32m   2524\u001b[0m             \u001b[0;32mtry\u001b[0m\u001b[0;34m:\u001b[0m\u001b[0;34m\u001b[0m\u001b[0m\n\u001b[0;32m-> 2525\u001b[0;31m                 \u001b[0;32mreturn\u001b[0m \u001b[0mself\u001b[0m\u001b[0;34m.\u001b[0m\u001b[0m_engine\u001b[0m\u001b[0;34m.\u001b[0m\u001b[0mget_loc\u001b[0m\u001b[0;34m(\u001b[0m\u001b[0mkey\u001b[0m\u001b[0;34m)\u001b[0m\u001b[0;34m\u001b[0m\u001b[0m\n\u001b[0m\u001b[1;32m   2526\u001b[0m             \u001b[0;32mexcept\u001b[0m \u001b[0mKeyError\u001b[0m\u001b[0;34m:\u001b[0m\u001b[0;34m\u001b[0m\u001b[0m\n",
      "\u001b[0;32mpandas/_libs/index.pyx\u001b[0m in \u001b[0;36mpandas._libs.index.IndexEngine.get_loc\u001b[0;34m()\u001b[0m\n",
      "\u001b[0;32mpandas/_libs/index.pyx\u001b[0m in \u001b[0;36mpandas._libs.index.IndexEngine.get_loc\u001b[0;34m()\u001b[0m\n",
      "\u001b[0;32mpandas/_libs/hashtable_class_helper.pxi\u001b[0m in \u001b[0;36mpandas._libs.hashtable.PyObjectHashTable.get_item\u001b[0;34m()\u001b[0m\n",
      "\u001b[0;32mpandas/_libs/hashtable_class_helper.pxi\u001b[0m in \u001b[0;36mpandas._libs.hashtable.PyObjectHashTable.get_item\u001b[0;34m()\u001b[0m\n",
      "\u001b[0;31mKeyError\u001b[0m: 'memtotal'",
      "\nDuring handling of the above exception, another exception occurred:\n",
      "\u001b[0;31mKeyError\u001b[0m                                  Traceback (most recent call last)",
      "\u001b[0;32m<ipython-input-74-df9e21c5ba04>\u001b[0m in \u001b[0;36m<module>\u001b[0;34m()\u001b[0m\n\u001b[1;32m      2\u001b[0m \u001b[0;31m# if number_of_errors< df.shape[0]:\u001b[0m\u001b[0;34m\u001b[0m\u001b[0;34m\u001b[0m\u001b[0m\n\u001b[1;32m      3\u001b[0m \u001b[0;31m#     df=df.sample(number_of_errors)\u001b[0m\u001b[0;34m\u001b[0m\u001b[0;34m\u001b[0m\u001b[0m\n\u001b[0;32m----> 4\u001b[0;31m \u001b[0mdf2\u001b[0m\u001b[0;34m[\u001b[0m\u001b[0;34m\"memtotal\"\u001b[0m\u001b[0;34m]\u001b[0m\u001b[0;34m.\u001b[0m\u001b[0mvalue_counts\u001b[0m\u001b[0;34m(\u001b[0m\u001b[0;34m)\u001b[0m\u001b[0;34m\u001b[0m\u001b[0m\n\u001b[0m",
      "\u001b[0;32m~/development/ber1/.venv/lib/python3.6/site-packages/pandas/core/frame.py\u001b[0m in \u001b[0;36m__getitem__\u001b[0;34m(self, key)\u001b[0m\n\u001b[1;32m   2137\u001b[0m             \u001b[0;32mreturn\u001b[0m \u001b[0mself\u001b[0m\u001b[0;34m.\u001b[0m\u001b[0m_getitem_multilevel\u001b[0m\u001b[0;34m(\u001b[0m\u001b[0mkey\u001b[0m\u001b[0;34m)\u001b[0m\u001b[0;34m\u001b[0m\u001b[0m\n\u001b[1;32m   2138\u001b[0m         \u001b[0;32melse\u001b[0m\u001b[0;34m:\u001b[0m\u001b[0;34m\u001b[0m\u001b[0m\n\u001b[0;32m-> 2139\u001b[0;31m             \u001b[0;32mreturn\u001b[0m \u001b[0mself\u001b[0m\u001b[0;34m.\u001b[0m\u001b[0m_getitem_column\u001b[0m\u001b[0;34m(\u001b[0m\u001b[0mkey\u001b[0m\u001b[0;34m)\u001b[0m\u001b[0;34m\u001b[0m\u001b[0m\n\u001b[0m\u001b[1;32m   2140\u001b[0m \u001b[0;34m\u001b[0m\u001b[0m\n\u001b[1;32m   2141\u001b[0m     \u001b[0;32mdef\u001b[0m \u001b[0m_getitem_column\u001b[0m\u001b[0;34m(\u001b[0m\u001b[0mself\u001b[0m\u001b[0;34m,\u001b[0m \u001b[0mkey\u001b[0m\u001b[0;34m)\u001b[0m\u001b[0;34m:\u001b[0m\u001b[0;34m\u001b[0m\u001b[0m\n",
      "\u001b[0;32m~/development/ber1/.venv/lib/python3.6/site-packages/pandas/core/frame.py\u001b[0m in \u001b[0;36m_getitem_column\u001b[0;34m(self, key)\u001b[0m\n\u001b[1;32m   2144\u001b[0m         \u001b[0;31m# get column\u001b[0m\u001b[0;34m\u001b[0m\u001b[0;34m\u001b[0m\u001b[0m\n\u001b[1;32m   2145\u001b[0m         \u001b[0;32mif\u001b[0m \u001b[0mself\u001b[0m\u001b[0;34m.\u001b[0m\u001b[0mcolumns\u001b[0m\u001b[0;34m.\u001b[0m\u001b[0mis_unique\u001b[0m\u001b[0;34m:\u001b[0m\u001b[0;34m\u001b[0m\u001b[0m\n\u001b[0;32m-> 2146\u001b[0;31m             \u001b[0;32mreturn\u001b[0m \u001b[0mself\u001b[0m\u001b[0;34m.\u001b[0m\u001b[0m_get_item_cache\u001b[0m\u001b[0;34m(\u001b[0m\u001b[0mkey\u001b[0m\u001b[0;34m)\u001b[0m\u001b[0;34m\u001b[0m\u001b[0m\n\u001b[0m\u001b[1;32m   2147\u001b[0m \u001b[0;34m\u001b[0m\u001b[0m\n\u001b[1;32m   2148\u001b[0m         \u001b[0;31m# duplicate columns & possible reduce dimensionality\u001b[0m\u001b[0;34m\u001b[0m\u001b[0;34m\u001b[0m\u001b[0m\n",
      "\u001b[0;32m~/development/ber1/.venv/lib/python3.6/site-packages/pandas/core/generic.py\u001b[0m in \u001b[0;36m_get_item_cache\u001b[0;34m(self, item)\u001b[0m\n\u001b[1;32m   1840\u001b[0m         \u001b[0mres\u001b[0m \u001b[0;34m=\u001b[0m \u001b[0mcache\u001b[0m\u001b[0;34m.\u001b[0m\u001b[0mget\u001b[0m\u001b[0;34m(\u001b[0m\u001b[0mitem\u001b[0m\u001b[0;34m)\u001b[0m\u001b[0;34m\u001b[0m\u001b[0m\n\u001b[1;32m   1841\u001b[0m         \u001b[0;32mif\u001b[0m \u001b[0mres\u001b[0m \u001b[0;32mis\u001b[0m \u001b[0;32mNone\u001b[0m\u001b[0;34m:\u001b[0m\u001b[0;34m\u001b[0m\u001b[0m\n\u001b[0;32m-> 1842\u001b[0;31m             \u001b[0mvalues\u001b[0m \u001b[0;34m=\u001b[0m \u001b[0mself\u001b[0m\u001b[0;34m.\u001b[0m\u001b[0m_data\u001b[0m\u001b[0;34m.\u001b[0m\u001b[0mget\u001b[0m\u001b[0;34m(\u001b[0m\u001b[0mitem\u001b[0m\u001b[0;34m)\u001b[0m\u001b[0;34m\u001b[0m\u001b[0m\n\u001b[0m\u001b[1;32m   1843\u001b[0m             \u001b[0mres\u001b[0m \u001b[0;34m=\u001b[0m \u001b[0mself\u001b[0m\u001b[0;34m.\u001b[0m\u001b[0m_box_item_values\u001b[0m\u001b[0;34m(\u001b[0m\u001b[0mitem\u001b[0m\u001b[0;34m,\u001b[0m \u001b[0mvalues\u001b[0m\u001b[0;34m)\u001b[0m\u001b[0;34m\u001b[0m\u001b[0m\n\u001b[1;32m   1844\u001b[0m             \u001b[0mcache\u001b[0m\u001b[0;34m[\u001b[0m\u001b[0mitem\u001b[0m\u001b[0;34m]\u001b[0m \u001b[0;34m=\u001b[0m \u001b[0mres\u001b[0m\u001b[0;34m\u001b[0m\u001b[0m\n",
      "\u001b[0;32m~/development/ber1/.venv/lib/python3.6/site-packages/pandas/core/internals.py\u001b[0m in \u001b[0;36mget\u001b[0;34m(self, item, fastpath)\u001b[0m\n\u001b[1;32m   3841\u001b[0m \u001b[0;34m\u001b[0m\u001b[0m\n\u001b[1;32m   3842\u001b[0m             \u001b[0;32mif\u001b[0m \u001b[0;32mnot\u001b[0m \u001b[0misna\u001b[0m\u001b[0;34m(\u001b[0m\u001b[0mitem\u001b[0m\u001b[0;34m)\u001b[0m\u001b[0;34m:\u001b[0m\u001b[0;34m\u001b[0m\u001b[0m\n\u001b[0;32m-> 3843\u001b[0;31m                 \u001b[0mloc\u001b[0m \u001b[0;34m=\u001b[0m \u001b[0mself\u001b[0m\u001b[0;34m.\u001b[0m\u001b[0mitems\u001b[0m\u001b[0;34m.\u001b[0m\u001b[0mget_loc\u001b[0m\u001b[0;34m(\u001b[0m\u001b[0mitem\u001b[0m\u001b[0;34m)\u001b[0m\u001b[0;34m\u001b[0m\u001b[0m\n\u001b[0m\u001b[1;32m   3844\u001b[0m             \u001b[0;32melse\u001b[0m\u001b[0;34m:\u001b[0m\u001b[0;34m\u001b[0m\u001b[0m\n\u001b[1;32m   3845\u001b[0m                 \u001b[0mindexer\u001b[0m \u001b[0;34m=\u001b[0m \u001b[0mnp\u001b[0m\u001b[0;34m.\u001b[0m\u001b[0marange\u001b[0m\u001b[0;34m(\u001b[0m\u001b[0mlen\u001b[0m\u001b[0;34m(\u001b[0m\u001b[0mself\u001b[0m\u001b[0;34m.\u001b[0m\u001b[0mitems\u001b[0m\u001b[0;34m)\u001b[0m\u001b[0;34m)\u001b[0m\u001b[0;34m[\u001b[0m\u001b[0misna\u001b[0m\u001b[0;34m(\u001b[0m\u001b[0mself\u001b[0m\u001b[0;34m.\u001b[0m\u001b[0mitems\u001b[0m\u001b[0;34m)\u001b[0m\u001b[0;34m]\u001b[0m\u001b[0;34m\u001b[0m\u001b[0m\n",
      "\u001b[0;32m~/development/ber1/.venv/lib/python3.6/site-packages/pandas/core/indexes/base.py\u001b[0m in \u001b[0;36mget_loc\u001b[0;34m(self, key, method, tolerance)\u001b[0m\n\u001b[1;32m   2525\u001b[0m                 \u001b[0;32mreturn\u001b[0m \u001b[0mself\u001b[0m\u001b[0;34m.\u001b[0m\u001b[0m_engine\u001b[0m\u001b[0;34m.\u001b[0m\u001b[0mget_loc\u001b[0m\u001b[0;34m(\u001b[0m\u001b[0mkey\u001b[0m\u001b[0;34m)\u001b[0m\u001b[0;34m\u001b[0m\u001b[0m\n\u001b[1;32m   2526\u001b[0m             \u001b[0;32mexcept\u001b[0m \u001b[0mKeyError\u001b[0m\u001b[0;34m:\u001b[0m\u001b[0;34m\u001b[0m\u001b[0m\n\u001b[0;32m-> 2527\u001b[0;31m                 \u001b[0;32mreturn\u001b[0m \u001b[0mself\u001b[0m\u001b[0;34m.\u001b[0m\u001b[0m_engine\u001b[0m\u001b[0;34m.\u001b[0m\u001b[0mget_loc\u001b[0m\u001b[0;34m(\u001b[0m\u001b[0mself\u001b[0m\u001b[0;34m.\u001b[0m\u001b[0m_maybe_cast_indexer\u001b[0m\u001b[0;34m(\u001b[0m\u001b[0mkey\u001b[0m\u001b[0;34m)\u001b[0m\u001b[0;34m)\u001b[0m\u001b[0;34m\u001b[0m\u001b[0m\n\u001b[0m\u001b[1;32m   2528\u001b[0m \u001b[0;34m\u001b[0m\u001b[0m\n\u001b[1;32m   2529\u001b[0m         \u001b[0mindexer\u001b[0m \u001b[0;34m=\u001b[0m \u001b[0mself\u001b[0m\u001b[0;34m.\u001b[0m\u001b[0mget_indexer\u001b[0m\u001b[0;34m(\u001b[0m\u001b[0;34m[\u001b[0m\u001b[0mkey\u001b[0m\u001b[0;34m]\u001b[0m\u001b[0;34m,\u001b[0m \u001b[0mmethod\u001b[0m\u001b[0;34m=\u001b[0m\u001b[0mmethod\u001b[0m\u001b[0;34m,\u001b[0m \u001b[0mtolerance\u001b[0m\u001b[0;34m=\u001b[0m\u001b[0mtolerance\u001b[0m\u001b[0;34m)\u001b[0m\u001b[0;34m\u001b[0m\u001b[0m\n",
      "\u001b[0;32mpandas/_libs/index.pyx\u001b[0m in \u001b[0;36mpandas._libs.index.IndexEngine.get_loc\u001b[0;34m()\u001b[0m\n",
      "\u001b[0;32mpandas/_libs/index.pyx\u001b[0m in \u001b[0;36mpandas._libs.index.IndexEngine.get_loc\u001b[0;34m()\u001b[0m\n",
      "\u001b[0;32mpandas/_libs/hashtable_class_helper.pxi\u001b[0m in \u001b[0;36mpandas._libs.hashtable.PyObjectHashTable.get_item\u001b[0;34m()\u001b[0m\n",
      "\u001b[0;32mpandas/_libs/hashtable_class_helper.pxi\u001b[0m in \u001b[0;36mpandas._libs.hashtable.PyObjectHashTable.get_item\u001b[0;34m()\u001b[0m\n",
      "\u001b[0;31mKeyError\u001b[0m: 'memtotal'"
     ]
    }
   ],
   "source": [
    "number_of_errors=df2.shape[0]\n",
    "# if number_of_errors< df.shape[0]:\n",
    "#     df=df.sample(number_of_errors)\n",
    "df2[\"memtotal\"].value_counts()"
   ]
  },
  {
   "cell_type": "code",
   "execution_count": 73,
   "metadata": {},
   "outputs": [
    {
     "data": {
      "text/plain": [
       "132112168.0    5380\n",
       "132111800.0       8\n",
       "16332488.0        4\n",
       "Name: memtotal, dtype: int64"
      ]
     },
     "execution_count": 73,
     "metadata": {},
     "output_type": "execute_result"
    }
   ],
   "source": [
    "df[\"memtotal\"].value_counts()"
   ]
  },
  {
   "cell_type": "code",
   "execution_count": 62,
   "metadata": {},
   "outputs": [],
   "source": [
    "df[\"result\"], df2[\"result\"]=\"ok\", \"walltime error\"\n",
    "df.index=df[\"id\"]\n",
    "df2.index=df2[\"id\"]\n",
    "df=pd.concat([df,df2])\n",
    "df=df.sort_values(\"id\")\n",
    "del df[\"id\"]\n",
    "df=df.reset_index()\n",
    "del df[\"id\"]\n",
    "df=remove_bad_columns(df)\n",
    "df=remove_bad_columns(df)"
   ]
  },
  {
   "cell_type": "code",
   "execution_count": 63,
   "metadata": {},
   "outputs": [],
   "source": [
    "df_features, df_labels = df, df.pop(\"result\")"
   ]
  },
  {
   "cell_type": "code",
   "execution_count": 64,
   "metadata": {},
   "outputs": [],
   "source": [
    "from sklearn import dummy\n",
    "chooser = ChooseFeatureColumns()\n",
    "scaler = MyMapper()\n",
    "regr=sklearn.ensemble.RandomForestClassifier(n_estimators=100, max_depth=12, max_features=None)\n",
    "# regr=sklearn.dummy.DummyClassifier()\n",
    "pipe = sklearn.pipeline.Pipeline([\n",
    "    ('chooser',chooser),\n",
    "    ('scaler', scaler),\n",
    "])"
   ]
  },
  {
   "cell_type": "code",
   "execution_count": 67,
   "metadata": {},
   "outputs": [
    {
     "data": {
      "text/plain": [
       "464"
      ]
     },
     "execution_count": 67,
     "metadata": {},
     "output_type": "execute_result"
    }
   ],
   "source": [
    "len(list(df))"
   ]
  },
  {
   "cell_type": "code",
   "execution_count": 65,
   "metadata": {},
   "outputs": [
    {
     "name": "stdout",
     "output_type": "stream",
     "text": [
      "splitting non-randomly\n"
     ]
    },
    {
     "ename": "KeyboardInterrupt",
     "evalue": "",
     "output_type": "error",
     "traceback": [
      "\u001b[0;31m---------------------------------------------------------------------------\u001b[0m",
      "\u001b[0;31mKeyboardInterrupt\u001b[0m                         Traceback (most recent call last)",
      "\u001b[0;32m<ipython-input-65-47ba0d593c68>\u001b[0m in \u001b[0;36m<module>\u001b[0;34m()\u001b[0m\n\u001b[1;32m     10\u001b[0m     \u001b[0mtr_features\u001b[0m\u001b[0;34m,\u001b[0m \u001b[0mtr_labels\u001b[0m\u001b[0;34m,\u001b[0m \u001b[0mev_features\u001b[0m\u001b[0;34m,\u001b[0m \u001b[0mev_labels\u001b[0m \u001b[0;34m=\u001b[0m \u001b[0mdf_features\u001b[0m\u001b[0;34m[\u001b[0m\u001b[0;34m:\u001b[0m\u001b[0mtest_start\u001b[0m\u001b[0;34m]\u001b[0m\u001b[0;34m,\u001b[0m \u001b[0mdf_labels\u001b[0m\u001b[0;34m[\u001b[0m\u001b[0;34m:\u001b[0m\u001b[0mtest_start\u001b[0m\u001b[0;34m]\u001b[0m\u001b[0;34m,\u001b[0m \u001b[0mdf_features\u001b[0m\u001b[0;34m[\u001b[0m\u001b[0mtest_start\u001b[0m\u001b[0;34m:\u001b[0m\u001b[0;34m]\u001b[0m\u001b[0;34m,\u001b[0m \u001b[0mdf_labels\u001b[0m\u001b[0;34m[\u001b[0m\u001b[0mtest_start\u001b[0m\u001b[0;34m:\u001b[0m\u001b[0;34m]\u001b[0m\u001b[0;34m\u001b[0m\u001b[0m\n\u001b[1;32m     11\u001b[0m     \u001b[0mprint\u001b[0m\u001b[0;34m(\u001b[0m\u001b[0;34m\"splitting non-randomly\"\u001b[0m\u001b[0;34m)\u001b[0m\u001b[0;34m\u001b[0m\u001b[0m\n\u001b[0;32m---> 12\u001b[0;31m \u001b[0;32mif\u001b[0m \u001b[0mtime_split\u001b[0m \u001b[0;32mand\u001b[0m \u001b[0;34m(\u001b[0m\u001b[0;34m(\u001b[0m\u001b[0mlen\u001b[0m\u001b[0;34m(\u001b[0m\u001b[0mlist\u001b[0m\u001b[0;34m(\u001b[0m\u001b[0mpipe\u001b[0m\u001b[0;34m.\u001b[0m\u001b[0mfit_transform\u001b[0m\u001b[0;34m(\u001b[0m\u001b[0mtr_features\u001b[0m\u001b[0;34m)\u001b[0m\u001b[0;34m)\u001b[0m\u001b[0;34m)\u001b[0m\u001b[0;34m)\u001b[0m \u001b[0;34m!=\u001b[0m \u001b[0;34m(\u001b[0m\u001b[0mlen\u001b[0m\u001b[0;34m(\u001b[0m\u001b[0mlist\u001b[0m\u001b[0;34m(\u001b[0m\u001b[0mpipe\u001b[0m\u001b[0;34m.\u001b[0m\u001b[0mtransform\u001b[0m\u001b[0;34m(\u001b[0m\u001b[0mev_features\u001b[0m\u001b[0;34m)\u001b[0m\u001b[0;34m)\u001b[0m\u001b[0;34m)\u001b[0m\u001b[0;34m)\u001b[0m\u001b[0;34m)\u001b[0m\u001b[0;34m:\u001b[0m\u001b[0;34m\u001b[0m\u001b[0m\n\u001b[0m\u001b[1;32m     13\u001b[0m     \u001b[0mprint\u001b[0m\u001b[0;34m(\u001b[0m\u001b[0;34m\"!! pipe transformation broken\"\u001b[0m\u001b[0;34m)\u001b[0m\u001b[0;34m\u001b[0m\u001b[0m\n\u001b[1;32m     14\u001b[0m     \u001b[0mtime_split\u001b[0m\u001b[0;34m=\u001b[0m\u001b[0;32mFalse\u001b[0m\u001b[0;34m\u001b[0m\u001b[0m\n",
      "\u001b[0;32m~/development/ber1/.venv/lib/python3.6/site-packages/sklearn/pipeline.py\u001b[0m in \u001b[0;36mfit_transform\u001b[0;34m(self, X, y, **fit_params)\u001b[0m\n\u001b[1;32m    281\u001b[0m         \u001b[0mXt\u001b[0m\u001b[0;34m,\u001b[0m \u001b[0mfit_params\u001b[0m \u001b[0;34m=\u001b[0m \u001b[0mself\u001b[0m\u001b[0;34m.\u001b[0m\u001b[0m_fit\u001b[0m\u001b[0;34m(\u001b[0m\u001b[0mX\u001b[0m\u001b[0;34m,\u001b[0m \u001b[0my\u001b[0m\u001b[0;34m,\u001b[0m \u001b[0;34m**\u001b[0m\u001b[0mfit_params\u001b[0m\u001b[0;34m)\u001b[0m\u001b[0;34m\u001b[0m\u001b[0m\n\u001b[1;32m    282\u001b[0m         \u001b[0;32mif\u001b[0m \u001b[0mhasattr\u001b[0m\u001b[0;34m(\u001b[0m\u001b[0mlast_step\u001b[0m\u001b[0;34m,\u001b[0m \u001b[0;34m'fit_transform'\u001b[0m\u001b[0;34m)\u001b[0m\u001b[0;34m:\u001b[0m\u001b[0;34m\u001b[0m\u001b[0m\n\u001b[0;32m--> 283\u001b[0;31m             \u001b[0;32mreturn\u001b[0m \u001b[0mlast_step\u001b[0m\u001b[0;34m.\u001b[0m\u001b[0mfit_transform\u001b[0m\u001b[0;34m(\u001b[0m\u001b[0mXt\u001b[0m\u001b[0;34m,\u001b[0m \u001b[0my\u001b[0m\u001b[0;34m,\u001b[0m \u001b[0;34m**\u001b[0m\u001b[0mfit_params\u001b[0m\u001b[0;34m)\u001b[0m\u001b[0;34m\u001b[0m\u001b[0m\n\u001b[0m\u001b[1;32m    284\u001b[0m         \u001b[0;32melif\u001b[0m \u001b[0mlast_step\u001b[0m \u001b[0;32mis\u001b[0m \u001b[0;32mNone\u001b[0m\u001b[0;34m:\u001b[0m\u001b[0;34m\u001b[0m\u001b[0m\n\u001b[1;32m    285\u001b[0m             \u001b[0;32mreturn\u001b[0m \u001b[0mXt\u001b[0m\u001b[0;34m\u001b[0m\u001b[0m\n",
      "\u001b[0;32m~/development/ber1/algorithm-performance-analysis/failed_jobs/preprocessing.py\u001b[0m in \u001b[0;36mfit_transform\u001b[0;34m(self, X, y)\u001b[0m\n\u001b[1;32m    122\u001b[0m \u001b[0;34m\u001b[0m\u001b[0m\n\u001b[1;32m    123\u001b[0m     \u001b[0;32mdef\u001b[0m \u001b[0mfit_transform\u001b[0m\u001b[0;34m(\u001b[0m\u001b[0mself\u001b[0m\u001b[0;34m,\u001b[0m\u001b[0mX\u001b[0m\u001b[0;34m,\u001b[0m \u001b[0my\u001b[0m\u001b[0;34m=\u001b[0m\u001b[0;32mNone\u001b[0m\u001b[0;34m)\u001b[0m\u001b[0;34m:\u001b[0m\u001b[0;34m\u001b[0m\u001b[0m\n\u001b[0;32m--> 124\u001b[0;31m         \u001b[0mself\u001b[0m\u001b[0;34m.\u001b[0m\u001b[0mfit\u001b[0m\u001b[0;34m(\u001b[0m\u001b[0mX\u001b[0m\u001b[0;34m)\u001b[0m\u001b[0;34m\u001b[0m\u001b[0m\n\u001b[0m\u001b[1;32m    125\u001b[0m         \u001b[0;32mreturn\u001b[0m \u001b[0mself\u001b[0m\u001b[0;34m.\u001b[0m\u001b[0mtransform\u001b[0m\u001b[0;34m(\u001b[0m\u001b[0mX\u001b[0m\u001b[0;34m)\u001b[0m\u001b[0;34m\u001b[0m\u001b[0m\n",
      "\u001b[0;32m~/development/ber1/algorithm-performance-analysis/failed_jobs/preprocessing.py\u001b[0m in \u001b[0;36mfit\u001b[0;34m(self, X, y)\u001b[0m\n\u001b[1;32m    112\u001b[0m         )\n\u001b[1;32m    113\u001b[0m         \u001b[0mself\u001b[0m\u001b[0;34m.\u001b[0m\u001b[0mmapper\u001b[0m \u001b[0;34m=\u001b[0m \u001b[0mDataFrameMapper\u001b[0m\u001b[0;34m(\u001b[0m\u001b[0mnfeats\u001b[0m\u001b[0;34m+\u001b[0m\u001b[0msfeats\u001b[0m\u001b[0;34m,\u001b[0m\u001b[0mdf_out\u001b[0m\u001b[0;34m=\u001b[0m\u001b[0;32mTrue\u001b[0m\u001b[0;34m)\u001b[0m\u001b[0;34m\u001b[0m\u001b[0m\n\u001b[0;32m--> 114\u001b[0;31m         \u001b[0mself\u001b[0m\u001b[0;34m.\u001b[0m\u001b[0mmapper\u001b[0m\u001b[0;34m.\u001b[0m\u001b[0mfit\u001b[0m\u001b[0;34m(\u001b[0m\u001b[0mX\u001b[0m\u001b[0;34m)\u001b[0m\u001b[0;34m\u001b[0m\u001b[0m\n\u001b[0m\u001b[1;32m    115\u001b[0m \u001b[0;31m#         print(\"features mapped\")\u001b[0m\u001b[0;34m\u001b[0m\u001b[0;34m\u001b[0m\u001b[0m\n\u001b[1;32m    116\u001b[0m         \u001b[0;32mreturn\u001b[0m \u001b[0mself\u001b[0m\u001b[0;34m\u001b[0m\u001b[0m\n",
      "\u001b[0;32m~/development/ber1/.venv/lib/python3.6/site-packages/sklearn_pandas/dataframe_mapper.py\u001b[0m in \u001b[0;36mfit\u001b[0;34m(self, X, y)\u001b[0m\n\u001b[1;32m    211\u001b[0m             \u001b[0;32mif\u001b[0m \u001b[0mtransformers\u001b[0m \u001b[0;32mis\u001b[0m \u001b[0;32mnot\u001b[0m \u001b[0;32mNone\u001b[0m\u001b[0;34m:\u001b[0m\u001b[0;34m\u001b[0m\u001b[0m\n\u001b[1;32m    212\u001b[0m                 \u001b[0;32mwith\u001b[0m \u001b[0madd_column_names_to_exception\u001b[0m\u001b[0;34m(\u001b[0m\u001b[0mcolumns\u001b[0m\u001b[0;34m)\u001b[0m\u001b[0;34m:\u001b[0m\u001b[0;34m\u001b[0m\u001b[0m\n\u001b[0;32m--> 213\u001b[0;31m                     \u001b[0mXt\u001b[0m \u001b[0;34m=\u001b[0m \u001b[0mself\u001b[0m\u001b[0;34m.\u001b[0m\u001b[0m_get_col_subset\u001b[0m\u001b[0;34m(\u001b[0m\u001b[0mX\u001b[0m\u001b[0;34m,\u001b[0m \u001b[0mcolumns\u001b[0m\u001b[0;34m,\u001b[0m \u001b[0minput_df\u001b[0m\u001b[0;34m)\u001b[0m\u001b[0;34m\u001b[0m\u001b[0m\n\u001b[0m\u001b[1;32m    214\u001b[0m                     \u001b[0m_call_fit\u001b[0m\u001b[0;34m(\u001b[0m\u001b[0mtransformers\u001b[0m\u001b[0;34m.\u001b[0m\u001b[0mfit\u001b[0m\u001b[0;34m,\u001b[0m \u001b[0mXt\u001b[0m\u001b[0;34m,\u001b[0m \u001b[0my\u001b[0m\u001b[0;34m)\u001b[0m\u001b[0;34m\u001b[0m\u001b[0m\n\u001b[1;32m    215\u001b[0m \u001b[0;34m\u001b[0m\u001b[0m\n",
      "\u001b[0;32m~/development/ber1/.venv/lib/python3.6/site-packages/sklearn_pandas/dataframe_mapper.py\u001b[0m in \u001b[0;36m_get_col_subset\u001b[0;34m(self, X, cols, input_df)\u001b[0m\n\u001b[1;32m    182\u001b[0m             \u001b[0mt\u001b[0m \u001b[0;34m=\u001b[0m \u001b[0mX\u001b[0m\u001b[0;34m[\u001b[0m\u001b[0mcols\u001b[0m\u001b[0;34m[\u001b[0m\u001b[0;36m0\u001b[0m\u001b[0;34m]\u001b[0m\u001b[0;34m]\u001b[0m\u001b[0;34m\u001b[0m\u001b[0m\n\u001b[1;32m    183\u001b[0m         \u001b[0;32melse\u001b[0m\u001b[0;34m:\u001b[0m\u001b[0;34m\u001b[0m\u001b[0m\n\u001b[0;32m--> 184\u001b[0;31m             \u001b[0mt\u001b[0m \u001b[0;34m=\u001b[0m \u001b[0mX\u001b[0m\u001b[0;34m[\u001b[0m\u001b[0mcols\u001b[0m\u001b[0;34m]\u001b[0m\u001b[0;34m\u001b[0m\u001b[0m\n\u001b[0m\u001b[1;32m    185\u001b[0m \u001b[0;34m\u001b[0m\u001b[0m\n\u001b[1;32m    186\u001b[0m         \u001b[0;31m# return either a DataFrame/Series or a numpy array\u001b[0m\u001b[0;34m\u001b[0m\u001b[0;34m\u001b[0m\u001b[0m\n",
      "\u001b[0;32m~/development/ber1/.venv/lib/python3.6/site-packages/pandas/core/frame.py\u001b[0m in \u001b[0;36m__getitem__\u001b[0;34m(self, key)\u001b[0m\n\u001b[1;32m   2131\u001b[0m         \u001b[0;32mif\u001b[0m \u001b[0misinstance\u001b[0m\u001b[0;34m(\u001b[0m\u001b[0mkey\u001b[0m\u001b[0;34m,\u001b[0m \u001b[0;34m(\u001b[0m\u001b[0mSeries\u001b[0m\u001b[0;34m,\u001b[0m \u001b[0mnp\u001b[0m\u001b[0;34m.\u001b[0m\u001b[0mndarray\u001b[0m\u001b[0;34m,\u001b[0m \u001b[0mIndex\u001b[0m\u001b[0;34m,\u001b[0m \u001b[0mlist\u001b[0m\u001b[0;34m)\u001b[0m\u001b[0;34m)\u001b[0m\u001b[0;34m:\u001b[0m\u001b[0;34m\u001b[0m\u001b[0m\n\u001b[1;32m   2132\u001b[0m             \u001b[0;31m# either boolean or fancy integer index\u001b[0m\u001b[0;34m\u001b[0m\u001b[0;34m\u001b[0m\u001b[0m\n\u001b[0;32m-> 2133\u001b[0;31m             \u001b[0;32mreturn\u001b[0m \u001b[0mself\u001b[0m\u001b[0;34m.\u001b[0m\u001b[0m_getitem_array\u001b[0m\u001b[0;34m(\u001b[0m\u001b[0mkey\u001b[0m\u001b[0;34m)\u001b[0m\u001b[0;34m\u001b[0m\u001b[0m\n\u001b[0m\u001b[1;32m   2134\u001b[0m         \u001b[0;32melif\u001b[0m \u001b[0misinstance\u001b[0m\u001b[0;34m(\u001b[0m\u001b[0mkey\u001b[0m\u001b[0;34m,\u001b[0m \u001b[0mDataFrame\u001b[0m\u001b[0;34m)\u001b[0m\u001b[0;34m:\u001b[0m\u001b[0;34m\u001b[0m\u001b[0m\n\u001b[1;32m   2135\u001b[0m             \u001b[0;32mreturn\u001b[0m \u001b[0mself\u001b[0m\u001b[0;34m.\u001b[0m\u001b[0m_getitem_frame\u001b[0m\u001b[0;34m(\u001b[0m\u001b[0mkey\u001b[0m\u001b[0;34m)\u001b[0m\u001b[0;34m\u001b[0m\u001b[0m\n",
      "\u001b[0;32m~/development/ber1/.venv/lib/python3.6/site-packages/pandas/core/frame.py\u001b[0m in \u001b[0;36m_getitem_array\u001b[0;34m(self, key)\u001b[0m\n\u001b[1;32m   2176\u001b[0m         \u001b[0;32melse\u001b[0m\u001b[0;34m:\u001b[0m\u001b[0;34m\u001b[0m\u001b[0m\n\u001b[1;32m   2177\u001b[0m             \u001b[0mindexer\u001b[0m \u001b[0;34m=\u001b[0m \u001b[0mself\u001b[0m\u001b[0;34m.\u001b[0m\u001b[0mloc\u001b[0m\u001b[0;34m.\u001b[0m\u001b[0m_convert_to_indexer\u001b[0m\u001b[0;34m(\u001b[0m\u001b[0mkey\u001b[0m\u001b[0;34m,\u001b[0m \u001b[0maxis\u001b[0m\u001b[0;34m=\u001b[0m\u001b[0;36m1\u001b[0m\u001b[0;34m)\u001b[0m\u001b[0;34m\u001b[0m\u001b[0m\n\u001b[0;32m-> 2178\u001b[0;31m             \u001b[0;32mreturn\u001b[0m \u001b[0mself\u001b[0m\u001b[0;34m.\u001b[0m\u001b[0m_take\u001b[0m\u001b[0;34m(\u001b[0m\u001b[0mindexer\u001b[0m\u001b[0;34m,\u001b[0m \u001b[0maxis\u001b[0m\u001b[0;34m=\u001b[0m\u001b[0;36m1\u001b[0m\u001b[0;34m,\u001b[0m \u001b[0mconvert\u001b[0m\u001b[0;34m=\u001b[0m\u001b[0;32mTrue\u001b[0m\u001b[0;34m)\u001b[0m\u001b[0;34m\u001b[0m\u001b[0m\n\u001b[0m\u001b[1;32m   2179\u001b[0m \u001b[0;34m\u001b[0m\u001b[0m\n\u001b[1;32m   2180\u001b[0m     \u001b[0;32mdef\u001b[0m \u001b[0m_getitem_multilevel\u001b[0m\u001b[0;34m(\u001b[0m\u001b[0mself\u001b[0m\u001b[0;34m,\u001b[0m \u001b[0mkey\u001b[0m\u001b[0;34m)\u001b[0m\u001b[0;34m:\u001b[0m\u001b[0;34m\u001b[0m\u001b[0m\n",
      "\u001b[0;32m~/development/ber1/.venv/lib/python3.6/site-packages/pandas/core/generic.py\u001b[0m in \u001b[0;36m_take\u001b[0;34m(self, indices, axis, convert, is_copy)\u001b[0m\n\u001b[1;32m   2148\u001b[0m         new_data = self._data.take(indices,\n\u001b[1;32m   2149\u001b[0m                                    \u001b[0maxis\u001b[0m\u001b[0;34m=\u001b[0m\u001b[0mself\u001b[0m\u001b[0;34m.\u001b[0m\u001b[0m_get_block_manager_axis\u001b[0m\u001b[0;34m(\u001b[0m\u001b[0maxis\u001b[0m\u001b[0;34m)\u001b[0m\u001b[0;34m,\u001b[0m\u001b[0;34m\u001b[0m\u001b[0m\n\u001b[0;32m-> 2150\u001b[0;31m                                    verify=True)\n\u001b[0m\u001b[1;32m   2151\u001b[0m         \u001b[0mresult\u001b[0m \u001b[0;34m=\u001b[0m \u001b[0mself\u001b[0m\u001b[0;34m.\u001b[0m\u001b[0m_constructor\u001b[0m\u001b[0;34m(\u001b[0m\u001b[0mnew_data\u001b[0m\u001b[0;34m)\u001b[0m\u001b[0;34m.\u001b[0m\u001b[0m__finalize__\u001b[0m\u001b[0;34m(\u001b[0m\u001b[0mself\u001b[0m\u001b[0;34m)\u001b[0m\u001b[0;34m\u001b[0m\u001b[0m\n\u001b[1;32m   2152\u001b[0m \u001b[0;34m\u001b[0m\u001b[0m\n",
      "\u001b[0;32m~/development/ber1/.venv/lib/python3.6/site-packages/pandas/core/internals.py\u001b[0m in \u001b[0;36mtake\u001b[0;34m(self, indexer, axis, verify, convert)\u001b[0m\n\u001b[1;32m   4251\u001b[0m                    else np.asanyarray(indexer, dtype='int64'))\n\u001b[1;32m   4252\u001b[0m \u001b[0;34m\u001b[0m\u001b[0m\n\u001b[0;32m-> 4253\u001b[0;31m         \u001b[0mn\u001b[0m \u001b[0;34m=\u001b[0m \u001b[0mself\u001b[0m\u001b[0;34m.\u001b[0m\u001b[0mshape\u001b[0m\u001b[0;34m[\u001b[0m\u001b[0maxis\u001b[0m\u001b[0;34m]\u001b[0m\u001b[0;34m\u001b[0m\u001b[0m\n\u001b[0m\u001b[1;32m   4254\u001b[0m         \u001b[0;32mif\u001b[0m \u001b[0mconvert\u001b[0m\u001b[0;34m:\u001b[0m\u001b[0;34m\u001b[0m\u001b[0m\n\u001b[1;32m   4255\u001b[0m             \u001b[0mindexer\u001b[0m \u001b[0;34m=\u001b[0m \u001b[0mmaybe_convert_indices\u001b[0m\u001b[0;34m(\u001b[0m\u001b[0mindexer\u001b[0m\u001b[0;34m,\u001b[0m \u001b[0mn\u001b[0m\u001b[0;34m)\u001b[0m\u001b[0;34m\u001b[0m\u001b[0m\n",
      "\u001b[0;32m~/development/ber1/.venv/lib/python3.6/site-packages/pandas/core/internals.py\u001b[0m in \u001b[0;36mshape\u001b[0;34m(self)\u001b[0m\n\u001b[1;32m   3058\u001b[0m     \u001b[0;34m@\u001b[0m\u001b[0mproperty\u001b[0m\u001b[0;34m\u001b[0m\u001b[0m\n\u001b[1;32m   3059\u001b[0m     \u001b[0;32mdef\u001b[0m \u001b[0mshape\u001b[0m\u001b[0;34m(\u001b[0m\u001b[0mself\u001b[0m\u001b[0;34m)\u001b[0m\u001b[0;34m:\u001b[0m\u001b[0;34m\u001b[0m\u001b[0m\n\u001b[0;32m-> 3060\u001b[0;31m         \u001b[0;32mreturn\u001b[0m \u001b[0mtuple\u001b[0m\u001b[0;34m(\u001b[0m\u001b[0mlen\u001b[0m\u001b[0;34m(\u001b[0m\u001b[0max\u001b[0m\u001b[0;34m)\u001b[0m \u001b[0;32mfor\u001b[0m \u001b[0max\u001b[0m \u001b[0;32min\u001b[0m \u001b[0mself\u001b[0m\u001b[0;34m.\u001b[0m\u001b[0maxes\u001b[0m\u001b[0;34m)\u001b[0m\u001b[0;34m\u001b[0m\u001b[0m\n\u001b[0m\u001b[1;32m   3061\u001b[0m \u001b[0;34m\u001b[0m\u001b[0m\n\u001b[1;32m   3062\u001b[0m     \u001b[0;34m@\u001b[0m\u001b[0mproperty\u001b[0m\u001b[0;34m\u001b[0m\u001b[0m\n",
      "\u001b[0;32m~/development/ber1/.venv/lib/python3.6/site-packages/pandas/core/internals.py\u001b[0m in \u001b[0;36m<genexpr>\u001b[0;34m(.0)\u001b[0m\n\u001b[1;32m   3058\u001b[0m     \u001b[0;34m@\u001b[0m\u001b[0mproperty\u001b[0m\u001b[0;34m\u001b[0m\u001b[0m\n\u001b[1;32m   3059\u001b[0m     \u001b[0;32mdef\u001b[0m \u001b[0mshape\u001b[0m\u001b[0;34m(\u001b[0m\u001b[0mself\u001b[0m\u001b[0;34m)\u001b[0m\u001b[0;34m:\u001b[0m\u001b[0;34m\u001b[0m\u001b[0m\n\u001b[0;32m-> 3060\u001b[0;31m         \u001b[0;32mreturn\u001b[0m \u001b[0mtuple\u001b[0m\u001b[0;34m(\u001b[0m\u001b[0mlen\u001b[0m\u001b[0;34m(\u001b[0m\u001b[0max\u001b[0m\u001b[0;34m)\u001b[0m \u001b[0;32mfor\u001b[0m \u001b[0max\u001b[0m \u001b[0;32min\u001b[0m \u001b[0mself\u001b[0m\u001b[0;34m.\u001b[0m\u001b[0maxes\u001b[0m\u001b[0;34m)\u001b[0m\u001b[0;34m\u001b[0m\u001b[0m\n\u001b[0m\u001b[1;32m   3061\u001b[0m \u001b[0;34m\u001b[0m\u001b[0m\n\u001b[1;32m   3062\u001b[0m     \u001b[0;34m@\u001b[0m\u001b[0mproperty\u001b[0m\u001b[0;34m\u001b[0m\u001b[0m\n",
      "\u001b[0;31mKeyboardInterrupt\u001b[0m: "
     ]
    }
   ],
   "source": [
    "test_size = 0.2\n",
    "test_start=len(df_labels)-int(len(df_labels)*test_size)\n",
    "\n",
    "split_randomly=False\n",
    "time_split=True\n",
    "if split_randomly and time_split:\n",
    "    tr_features, ev_features, tr_labels, ev_labels = sklearn.model_selection.train_test_split(df_features, df_labels, test_size=test_size)\n",
    "    print(\"splitting randomly\")\n",
    "elif time_split:\n",
    "    tr_features, tr_labels, ev_features, ev_labels = df_features[:test_start], df_labels[:test_start], df_features[test_start:], df_labels[test_start:]\n",
    "    print(\"splitting non-randomly\")\n",
    "if time_split and ((len(list(pipe.fit_transform(tr_features)))) != (len(list(pipe.transform(ev_features))))):\n",
    "    print(\"!! pipe transformation broken\")\n",
    "    time_split=False"
   ]
  },
  {
   "cell_type": "code",
   "execution_count": null,
   "metadata": {},
   "outputs": [],
   "source": [
    "df_features=pipe.fit_transform(df_features)\n",
    "if time_split:\n",
    "            tr_features=pipe.fit_transform(tr_features)\n",
    "            ev_features=pipe.transform(ev_features)"
   ]
  },
  {
   "cell_type": "code",
   "execution_count": null,
   "metadata": {},
   "outputs": [],
   "source": [
    "regr.fit(tr_features,tr_labels)\n",
    "ev_pred = regr.predict(ev_features)\n",
    "accuracy=sklearn.metrics.accuracy_score(ev_labels,ev_pred) \n",
    "accuracy"
   ]
  },
  {
   "cell_type": "code",
   "execution_count": 41,
   "metadata": {},
   "outputs": [
    {
     "data": {
      "text/plain": [
       "array(['ok', 'ok', 'ok', ..., 'ok', 'ok', 'ok'], dtype=object)"
      ]
     },
     "execution_count": 41,
     "metadata": {},
     "output_type": "execute_result"
    }
   ],
   "source": [
    "ev_pred"
   ]
  },
  {
   "cell_type": "code",
   "execution_count": 52,
   "metadata": {},
   "outputs": [
    {
     "name": "stdout",
     "output_type": "stream",
     "text": [
      "0\n",
      "0\n",
      "nan\n",
      "1035\n",
      "2\n",
      "0.001932367149758454\n"
     ]
    }
   ],
   "source": [
    "print(get_false_positives(ev_labels, ev_pred))\n",
    "print(get_false_negatives(ev_labels, ev_pred))"
   ]
  },
  {
   "cell_type": "code",
   "execution_count": 34,
   "metadata": {},
   "outputs": [
    {
     "data": {
      "text/plain": [
       "1.0"
      ]
     },
     "execution_count": 34,
     "metadata": {},
     "output_type": "execute_result"
    }
   ],
   "source": [
    "regr.fit(df_features, df_labels)\n",
    "pred=regr.predict(df_features)\n",
    "accuracy=sklearn.metrics.accuracy_score(df_labels,pred) \n",
    "accuracy"
   ]
  },
  {
   "cell_type": "code",
   "execution_count": 53,
   "metadata": {},
   "outputs": [
    {
     "name": "stdout",
     "output_type": "stream",
     "text": [
      "4\n",
      "0\n",
      "0.0\n",
      "5172\n",
      "0\n",
      "0.0\n"
     ]
    }
   ],
   "source": [
    "def get_false_positives(labels, pred):\n",
    "    labels=labels.reset_index(drop=True)\n",
    "    total_positive=0\n",
    "    false_positive=0\n",
    "    for i in range(len(pred)):\n",
    "        if pred[i]==\"walltime error\":\n",
    "            total_positive+=1\n",
    "            if labels[i]==\"ok\":\n",
    "                false_positive+=1\n",
    "    print(total_positive)\n",
    "    print(false_positive)\n",
    "    if total_positive == 0:\n",
    "            return np.nan\n",
    "    return false_positive/total_positive\n",
    "\n",
    "def get_false_negatives(labels, pred):\n",
    "    labels=labels.reset_index(drop=True)\n",
    "    total_negatives=0\n",
    "    false_negatives=0\n",
    "    for i in range(len(pred)):\n",
    "        if pred[i]==\"ok\":\n",
    "            total_negatives+=1\n",
    "            if labels[i]==\"walltime error\":\n",
    "                false_negatives+=1\n",
    "    print(total_negatives)\n",
    "    print(false_negatives)\n",
    "    \n",
    "    return false_negatives/total_negatives\n",
    "\n",
    "print(get_false_positives(df_labels, pred))\n",
    "print(get_false_negatives(df_labels, pred))"
   ]
  },
  {
   "cell_type": "code",
   "execution_count": 49,
   "metadata": {},
   "outputs": [
    {
     "data": {
      "text/plain": [
       "0       ok\n",
       "1       ok\n",
       "2       ok\n",
       "3       ok\n",
       "4       ok\n",
       "5       ok\n",
       "6       ok\n",
       "7       ok\n",
       "8       ok\n",
       "9       ok\n",
       "10      ok\n",
       "11      ok\n",
       "12      ok\n",
       "13      ok\n",
       "14      ok\n",
       "15      ok\n",
       "16      ok\n",
       "17      ok\n",
       "18      ok\n",
       "19      ok\n",
       "20      ok\n",
       "21      ok\n",
       "22      ok\n",
       "23      ok\n",
       "24      ok\n",
       "25      ok\n",
       "26      ok\n",
       "27      ok\n",
       "28      ok\n",
       "29      ok\n",
       "        ..\n",
       "5146    ok\n",
       "5147    ok\n",
       "5148    ok\n",
       "5149    ok\n",
       "5150    ok\n",
       "5151    ok\n",
       "5152    ok\n",
       "5153    ok\n",
       "5154    ok\n",
       "5155    ok\n",
       "5156    ok\n",
       "5157    ok\n",
       "5158    ok\n",
       "5159    ok\n",
       "5160    ok\n",
       "5161    ok\n",
       "5162    ok\n",
       "5163    ok\n",
       "5164    ok\n",
       "5165    ok\n",
       "5166    ok\n",
       "5167    ok\n",
       "5168    ok\n",
       "5169    ok\n",
       "5170    ok\n",
       "5171    ok\n",
       "5172    ok\n",
       "5173    ok\n",
       "5174    ok\n",
       "5175    ok\n",
       "Name: result, Length: 5176, dtype: object"
      ]
     },
     "execution_count": 49,
     "metadata": {},
     "output_type": "execute_result"
    }
   ],
   "source": [
    "df_labels.reset_index(drop=True)"
   ]
  },
  {
   "cell_type": "code",
   "execution_count": 147,
   "metadata": {
    "collapsed": true
   },
   "outputs": [
    {
     "data": {
      "text/plain": [
       "0        walltime error\n",
       "1        walltime error\n",
       "2        walltime error\n",
       "3        walltime error\n",
       "4        walltime error\n",
       "5        walltime error\n",
       "6        walltime error\n",
       "7        walltime error\n",
       "8        walltime error\n",
       "9        walltime error\n",
       "10       walltime error\n",
       "11       walltime error\n",
       "12       walltime error\n",
       "13       walltime error\n",
       "14       walltime error\n",
       "15       walltime error\n",
       "16       walltime error\n",
       "17       walltime error\n",
       "18       walltime error\n",
       "19       walltime error\n",
       "20       walltime error\n",
       "21       walltime error\n",
       "22       walltime error\n",
       "23       walltime error\n",
       "24       walltime error\n",
       "25       walltime error\n",
       "26                   ok\n",
       "27                   ok\n",
       "28                   ok\n",
       "29                   ok\n",
       "              ...      \n",
       "17604                ok\n",
       "17605                ok\n",
       "17606                ok\n",
       "17607                ok\n",
       "17608                ok\n",
       "17609                ok\n",
       "17610                ok\n",
       "17611                ok\n",
       "17612                ok\n",
       "17613                ok\n",
       "17614                ok\n",
       "17615                ok\n",
       "17616                ok\n",
       "17617                ok\n",
       "17618                ok\n",
       "17619                ok\n",
       "17620                ok\n",
       "17621                ok\n",
       "17622                ok\n",
       "17623                ok\n",
       "17624                ok\n",
       "17625                ok\n",
       "17626                ok\n",
       "17627                ok\n",
       "17628                ok\n",
       "17629                ok\n",
       "17630                ok\n",
       "17631                ok\n",
       "17632                ok\n",
       "17633                ok\n",
       "Name: result, Length: 17634, dtype: object"
      ]
     },
     "execution_count": 147,
     "metadata": {},
     "output_type": "execute_result"
    }
   ],
   "source": [
    "df_labels"
   ]
  },
  {
   "cell_type": "code",
   "execution_count": 148,
   "metadata": {
    "collapsed": true
   },
   "outputs": [
    {
     "ename": "KeyError",
     "evalue": "'destination_id'",
     "output_type": "error",
     "traceback": [
      "\u001b[0;31m---------------------------------------------------------------------------\u001b[0m",
      "\u001b[0;31mKeyError\u001b[0m                                  Traceback (most recent call last)",
      "\u001b[0;32m~/development/ber1/.venv/lib/python3.6/site-packages/pandas/core/indexes/base.py\u001b[0m in \u001b[0;36mget_loc\u001b[0;34m(self, key, method, tolerance)\u001b[0m\n\u001b[1;32m   2524\u001b[0m             \u001b[0;32mtry\u001b[0m\u001b[0;34m:\u001b[0m\u001b[0;34m\u001b[0m\u001b[0m\n\u001b[0;32m-> 2525\u001b[0;31m                 \u001b[0;32mreturn\u001b[0m \u001b[0mself\u001b[0m\u001b[0;34m.\u001b[0m\u001b[0m_engine\u001b[0m\u001b[0;34m.\u001b[0m\u001b[0mget_loc\u001b[0m\u001b[0;34m(\u001b[0m\u001b[0mkey\u001b[0m\u001b[0;34m)\u001b[0m\u001b[0;34m\u001b[0m\u001b[0m\n\u001b[0m\u001b[1;32m   2526\u001b[0m             \u001b[0;32mexcept\u001b[0m \u001b[0mKeyError\u001b[0m\u001b[0;34m:\u001b[0m\u001b[0;34m\u001b[0m\u001b[0m\n",
      "\u001b[0;32mpandas/_libs/index.pyx\u001b[0m in \u001b[0;36mpandas._libs.index.IndexEngine.get_loc\u001b[0;34m()\u001b[0m\n",
      "\u001b[0;32mpandas/_libs/index.pyx\u001b[0m in \u001b[0;36mpandas._libs.index.IndexEngine.get_loc\u001b[0;34m()\u001b[0m\n",
      "\u001b[0;32mpandas/_libs/hashtable_class_helper.pxi\u001b[0m in \u001b[0;36mpandas._libs.hashtable.PyObjectHashTable.get_item\u001b[0;34m()\u001b[0m\n",
      "\u001b[0;32mpandas/_libs/hashtable_class_helper.pxi\u001b[0m in \u001b[0;36mpandas._libs.hashtable.PyObjectHashTable.get_item\u001b[0;34m()\u001b[0m\n",
      "\u001b[0;31mKeyError\u001b[0m: 'destination_id'",
      "\nDuring handling of the above exception, another exception occurred:\n",
      "\u001b[0;31mKeyError\u001b[0m                                  Traceback (most recent call last)",
      "\u001b[0;32m<ipython-input-148-4f835a8dae76>\u001b[0m in \u001b[0;36m<module>\u001b[0;34m()\u001b[0m\n\u001b[1;32m      1\u001b[0m \u001b[0;32mfrom\u001b[0m \u001b[0mmatplotlib\u001b[0m \u001b[0;32mimport\u001b[0m \u001b[0mpyplot\u001b[0m \u001b[0;32mas\u001b[0m \u001b[0mplt\u001b[0m\u001b[0;34m\u001b[0m\u001b[0m\n\u001b[0;32m----> 2\u001b[0;31m \u001b[0mplt\u001b[0m\u001b[0;34m.\u001b[0m\u001b[0mscatter\u001b[0m\u001b[0;34m(\u001b[0m\u001b[0mdf_features\u001b[0m\u001b[0;34m[\u001b[0m\u001b[0;34m\"destination_id\"\u001b[0m\u001b[0;34m]\u001b[0m\u001b[0;34m,\u001b[0m \u001b[0mdf_labels\u001b[0m\u001b[0;34m)\u001b[0m\u001b[0;34m\u001b[0m\u001b[0m\n\u001b[0m",
      "\u001b[0;32m~/development/ber1/.venv/lib/python3.6/site-packages/pandas/core/frame.py\u001b[0m in \u001b[0;36m__getitem__\u001b[0;34m(self, key)\u001b[0m\n\u001b[1;32m   2137\u001b[0m             \u001b[0;32mreturn\u001b[0m \u001b[0mself\u001b[0m\u001b[0;34m.\u001b[0m\u001b[0m_getitem_multilevel\u001b[0m\u001b[0;34m(\u001b[0m\u001b[0mkey\u001b[0m\u001b[0;34m)\u001b[0m\u001b[0;34m\u001b[0m\u001b[0m\n\u001b[1;32m   2138\u001b[0m         \u001b[0;32melse\u001b[0m\u001b[0;34m:\u001b[0m\u001b[0;34m\u001b[0m\u001b[0m\n\u001b[0;32m-> 2139\u001b[0;31m             \u001b[0;32mreturn\u001b[0m \u001b[0mself\u001b[0m\u001b[0;34m.\u001b[0m\u001b[0m_getitem_column\u001b[0m\u001b[0;34m(\u001b[0m\u001b[0mkey\u001b[0m\u001b[0;34m)\u001b[0m\u001b[0;34m\u001b[0m\u001b[0m\n\u001b[0m\u001b[1;32m   2140\u001b[0m \u001b[0;34m\u001b[0m\u001b[0m\n\u001b[1;32m   2141\u001b[0m     \u001b[0;32mdef\u001b[0m \u001b[0m_getitem_column\u001b[0m\u001b[0;34m(\u001b[0m\u001b[0mself\u001b[0m\u001b[0;34m,\u001b[0m \u001b[0mkey\u001b[0m\u001b[0;34m)\u001b[0m\u001b[0;34m:\u001b[0m\u001b[0;34m\u001b[0m\u001b[0m\n",
      "\u001b[0;32m~/development/ber1/.venv/lib/python3.6/site-packages/pandas/core/frame.py\u001b[0m in \u001b[0;36m_getitem_column\u001b[0;34m(self, key)\u001b[0m\n\u001b[1;32m   2144\u001b[0m         \u001b[0;31m# get column\u001b[0m\u001b[0;34m\u001b[0m\u001b[0;34m\u001b[0m\u001b[0m\n\u001b[1;32m   2145\u001b[0m         \u001b[0;32mif\u001b[0m \u001b[0mself\u001b[0m\u001b[0;34m.\u001b[0m\u001b[0mcolumns\u001b[0m\u001b[0;34m.\u001b[0m\u001b[0mis_unique\u001b[0m\u001b[0;34m:\u001b[0m\u001b[0;34m\u001b[0m\u001b[0m\n\u001b[0;32m-> 2146\u001b[0;31m             \u001b[0;32mreturn\u001b[0m \u001b[0mself\u001b[0m\u001b[0;34m.\u001b[0m\u001b[0m_get_item_cache\u001b[0m\u001b[0;34m(\u001b[0m\u001b[0mkey\u001b[0m\u001b[0;34m)\u001b[0m\u001b[0;34m\u001b[0m\u001b[0m\n\u001b[0m\u001b[1;32m   2147\u001b[0m \u001b[0;34m\u001b[0m\u001b[0m\n\u001b[1;32m   2148\u001b[0m         \u001b[0;31m# duplicate columns & possible reduce dimensionality\u001b[0m\u001b[0;34m\u001b[0m\u001b[0;34m\u001b[0m\u001b[0m\n",
      "\u001b[0;32m~/development/ber1/.venv/lib/python3.6/site-packages/pandas/core/generic.py\u001b[0m in \u001b[0;36m_get_item_cache\u001b[0;34m(self, item)\u001b[0m\n\u001b[1;32m   1840\u001b[0m         \u001b[0mres\u001b[0m \u001b[0;34m=\u001b[0m \u001b[0mcache\u001b[0m\u001b[0;34m.\u001b[0m\u001b[0mget\u001b[0m\u001b[0;34m(\u001b[0m\u001b[0mitem\u001b[0m\u001b[0;34m)\u001b[0m\u001b[0;34m\u001b[0m\u001b[0m\n\u001b[1;32m   1841\u001b[0m         \u001b[0;32mif\u001b[0m \u001b[0mres\u001b[0m \u001b[0;32mis\u001b[0m \u001b[0;32mNone\u001b[0m\u001b[0;34m:\u001b[0m\u001b[0;34m\u001b[0m\u001b[0m\n\u001b[0;32m-> 1842\u001b[0;31m             \u001b[0mvalues\u001b[0m \u001b[0;34m=\u001b[0m \u001b[0mself\u001b[0m\u001b[0;34m.\u001b[0m\u001b[0m_data\u001b[0m\u001b[0;34m.\u001b[0m\u001b[0mget\u001b[0m\u001b[0;34m(\u001b[0m\u001b[0mitem\u001b[0m\u001b[0;34m)\u001b[0m\u001b[0;34m\u001b[0m\u001b[0m\n\u001b[0m\u001b[1;32m   1843\u001b[0m             \u001b[0mres\u001b[0m \u001b[0;34m=\u001b[0m \u001b[0mself\u001b[0m\u001b[0;34m.\u001b[0m\u001b[0m_box_item_values\u001b[0m\u001b[0;34m(\u001b[0m\u001b[0mitem\u001b[0m\u001b[0;34m,\u001b[0m \u001b[0mvalues\u001b[0m\u001b[0;34m)\u001b[0m\u001b[0;34m\u001b[0m\u001b[0m\n\u001b[1;32m   1844\u001b[0m             \u001b[0mcache\u001b[0m\u001b[0;34m[\u001b[0m\u001b[0mitem\u001b[0m\u001b[0;34m]\u001b[0m \u001b[0;34m=\u001b[0m \u001b[0mres\u001b[0m\u001b[0;34m\u001b[0m\u001b[0m\n",
      "\u001b[0;32m~/development/ber1/.venv/lib/python3.6/site-packages/pandas/core/internals.py\u001b[0m in \u001b[0;36mget\u001b[0;34m(self, item, fastpath)\u001b[0m\n\u001b[1;32m   3841\u001b[0m \u001b[0;34m\u001b[0m\u001b[0m\n\u001b[1;32m   3842\u001b[0m             \u001b[0;32mif\u001b[0m \u001b[0;32mnot\u001b[0m \u001b[0misna\u001b[0m\u001b[0;34m(\u001b[0m\u001b[0mitem\u001b[0m\u001b[0;34m)\u001b[0m\u001b[0;34m:\u001b[0m\u001b[0;34m\u001b[0m\u001b[0m\n\u001b[0;32m-> 3843\u001b[0;31m                 \u001b[0mloc\u001b[0m \u001b[0;34m=\u001b[0m \u001b[0mself\u001b[0m\u001b[0;34m.\u001b[0m\u001b[0mitems\u001b[0m\u001b[0;34m.\u001b[0m\u001b[0mget_loc\u001b[0m\u001b[0;34m(\u001b[0m\u001b[0mitem\u001b[0m\u001b[0;34m)\u001b[0m\u001b[0;34m\u001b[0m\u001b[0m\n\u001b[0m\u001b[1;32m   3844\u001b[0m             \u001b[0;32melse\u001b[0m\u001b[0;34m:\u001b[0m\u001b[0;34m\u001b[0m\u001b[0m\n\u001b[1;32m   3845\u001b[0m                 \u001b[0mindexer\u001b[0m \u001b[0;34m=\u001b[0m \u001b[0mnp\u001b[0m\u001b[0;34m.\u001b[0m\u001b[0marange\u001b[0m\u001b[0;34m(\u001b[0m\u001b[0mlen\u001b[0m\u001b[0;34m(\u001b[0m\u001b[0mself\u001b[0m\u001b[0;34m.\u001b[0m\u001b[0mitems\u001b[0m\u001b[0;34m)\u001b[0m\u001b[0;34m)\u001b[0m\u001b[0;34m[\u001b[0m\u001b[0misna\u001b[0m\u001b[0;34m(\u001b[0m\u001b[0mself\u001b[0m\u001b[0;34m.\u001b[0m\u001b[0mitems\u001b[0m\u001b[0;34m)\u001b[0m\u001b[0;34m]\u001b[0m\u001b[0;34m\u001b[0m\u001b[0m\n",
      "\u001b[0;32m~/development/ber1/.venv/lib/python3.6/site-packages/pandas/core/indexes/base.py\u001b[0m in \u001b[0;36mget_loc\u001b[0;34m(self, key, method, tolerance)\u001b[0m\n\u001b[1;32m   2525\u001b[0m                 \u001b[0;32mreturn\u001b[0m \u001b[0mself\u001b[0m\u001b[0;34m.\u001b[0m\u001b[0m_engine\u001b[0m\u001b[0;34m.\u001b[0m\u001b[0mget_loc\u001b[0m\u001b[0;34m(\u001b[0m\u001b[0mkey\u001b[0m\u001b[0;34m)\u001b[0m\u001b[0;34m\u001b[0m\u001b[0m\n\u001b[1;32m   2526\u001b[0m             \u001b[0;32mexcept\u001b[0m \u001b[0mKeyError\u001b[0m\u001b[0;34m:\u001b[0m\u001b[0;34m\u001b[0m\u001b[0m\n\u001b[0;32m-> 2527\u001b[0;31m                 \u001b[0;32mreturn\u001b[0m \u001b[0mself\u001b[0m\u001b[0;34m.\u001b[0m\u001b[0m_engine\u001b[0m\u001b[0;34m.\u001b[0m\u001b[0mget_loc\u001b[0m\u001b[0;34m(\u001b[0m\u001b[0mself\u001b[0m\u001b[0;34m.\u001b[0m\u001b[0m_maybe_cast_indexer\u001b[0m\u001b[0;34m(\u001b[0m\u001b[0mkey\u001b[0m\u001b[0;34m)\u001b[0m\u001b[0;34m)\u001b[0m\u001b[0;34m\u001b[0m\u001b[0m\n\u001b[0m\u001b[1;32m   2528\u001b[0m \u001b[0;34m\u001b[0m\u001b[0m\n\u001b[1;32m   2529\u001b[0m         \u001b[0mindexer\u001b[0m \u001b[0;34m=\u001b[0m \u001b[0mself\u001b[0m\u001b[0;34m.\u001b[0m\u001b[0mget_indexer\u001b[0m\u001b[0;34m(\u001b[0m\u001b[0;34m[\u001b[0m\u001b[0mkey\u001b[0m\u001b[0;34m]\u001b[0m\u001b[0;34m,\u001b[0m \u001b[0mmethod\u001b[0m\u001b[0;34m=\u001b[0m\u001b[0mmethod\u001b[0m\u001b[0;34m,\u001b[0m \u001b[0mtolerance\u001b[0m\u001b[0;34m=\u001b[0m\u001b[0mtolerance\u001b[0m\u001b[0;34m)\u001b[0m\u001b[0;34m\u001b[0m\u001b[0m\n",
      "\u001b[0;32mpandas/_libs/index.pyx\u001b[0m in \u001b[0;36mpandas._libs.index.IndexEngine.get_loc\u001b[0;34m()\u001b[0m\n",
      "\u001b[0;32mpandas/_libs/index.pyx\u001b[0m in \u001b[0;36mpandas._libs.index.IndexEngine.get_loc\u001b[0;34m()\u001b[0m\n",
      "\u001b[0;32mpandas/_libs/hashtable_class_helper.pxi\u001b[0m in \u001b[0;36mpandas._libs.hashtable.PyObjectHashTable.get_item\u001b[0;34m()\u001b[0m\n",
      "\u001b[0;32mpandas/_libs/hashtable_class_helper.pxi\u001b[0m in \u001b[0;36mpandas._libs.hashtable.PyObjectHashTable.get_item\u001b[0;34m()\u001b[0m\n",
      "\u001b[0;31mKeyError\u001b[0m: 'destination_id'"
     ]
    }
   ],
   "source": [
    "from matplotlib import pyplot as plt\n",
    "plt.scatter(df_features[\"destination_id\"], df_labels)"
   ]
  },
  {
   "cell_type": "code",
   "execution_count": 106,
   "metadata": {},
   "outputs": [
    {
     "data": {
      "text/plain": [
       "215"
      ]
     },
     "execution_count": 106,
     "metadata": {},
     "output_type": "execute_result"
    }
   ],
   "source": [
    "len(regr.feature_importances_)"
   ]
  },
  {
   "cell_type": "code",
   "execution_count": 149,
   "metadata": {},
   "outputs": [],
   "source": [
    "fi=dict(zip(list(df_features),regr.feature_importances_))"
   ]
  },
  {
   "cell_type": "code",
   "execution_count": 150,
   "metadata": {
    "collapsed": true
   },
   "outputs": [
    {
     "data": {
      "text/plain": [
       "[('input', 0.20661730306059617),\n",
       " ('parameters.dbkey_\"28247\"', 0.09514637174034685),\n",
       " ('parameters.dbkey_\"278\"', 0.07236990405147299),\n",
       " ('parameters.outcontrol.out_seqnos_nan', 0.06261366780842692),\n",
       " ('parameters.range.seq_range_end', 0.058684567133249294),\n",
       " ('parameters.dbkey_\"9618\"', 0.05104735958089012),\n",
       " ('parameters.outcontrol.__current_case__', 0.04109306667663864),\n",
       " ('parameters.outcontrol.out_seqnos_OFF', 0.04106272696921007),\n",
       " ('parameters.outcontrol.outform_clustal', 0.03884097151330057),\n",
       " ('parameters.dbkey_\"bradJapo\"', 0.03052314425438402),\n",
       " ('parameters.dbkey_\"AgamP3__New\"', 0.02766929529741702),\n",
       " ('parameters.dnarna_\"DNA\"', 0.02506933528289552),\n",
       " ('parameters.dbkey_\"hg19\"', 0.021062274798562805),\n",
       " ('parameters.outcontrol.outform_fasta', 0.02092532724936896),\n",
       " ('parameters.dnarna_\"PROTEIN\"', 0.019899557760235012),\n",
       " ('parameters.dbkey_\"81\"', 0.01943821106856741),\n",
       " ('parameters.dbkey_\"237\"', 0.018962645548229195),\n",
       " ('parameters.dbkey_\"31\"', 0.016636843907358832),\n",
       " ('parameters.dbkey_\"canFam3\"', 0.014516918526604963),\n",
       " ('parameters.dbkey_\"190\"', 0.01414208643877777),\n",
       " ('parameters.dbkey_\"?\"', 0.013902765538853787),\n",
       " ('parameters.dbkey_\"mm9\"', 0.012279789549178861),\n",
       " ('parameters.dbkey_\"10616\"', 0.011454899143716097),\n",
       " ('parameters.dbkey_\"12\"', 0.010143292174759259),\n",
       " ('parameters.range.seq_range_start', 0.00897883344960216),\n",
       " ('parameters.outcontrol.out_seqnos_ON', 0.008639536524250448),\n",
       " ('parameters.dbkey_\"mycoTube_H37RV\"', 0.008038241625898297),\n",
       " ('parameters.dbkey_\"mm10\"', 0.006980523219991414),\n",
       " ('parameters.outcontrol.outform_phylip', 0.005131504041370001),\n",
       " ('parameters.dbkey_\"rodEnt13\"', 0.002989860839993376),\n",
       " ('parameters.dbkey_\"dm3\"', 0.002892691994061195),\n",
       " ('parameters.out_order_\"INPUT\"', 0.002873196312970739),\n",
       " ('parameters.dbkey_\"hg18\"', 0.0028371089006462265),\n",
       " ('parameters.dbkey_\"241\"', 0.0023432090747005363),\n",
       " ('parameters.range.mode_part', 0.00206719493057929),\n",
       " ('parameters.range.__current_case__', 0.0007009418968118296),\n",
       " ('input_filetype_fasta', 0.0005445959018612552),\n",
       " ('chromInfo', 0.0003653283191195688),\n",
       " ('chromInfo_filetype_nan', 0.00016665385732191494),\n",
       " ('input_filetype_tabular', 6.75933779148194e-05),\n",
       " ('parameters.dbkey_\"Saccharomyces_cerevisiae_S288C_SGD2010\"',\n",
       "  5.0389836920242827e-05),\n",
       " ('input_filetype_data', 4.568518746762173e-05),\n",
       " ('parameters.dbkey_\"schMed4\"', 4.327071886271656e-05),\n",
       " ('parameters.dbkey_\"lMaj5\"', 3.663982860732123e-05),\n",
       " ('input_filetype_txt', 2.4429350924252662e-05),\n",
       " ('chromInfo_filetype_len', 2.435322705836569e-05),\n",
       " ('parameters.dbkey_\"danRer10\"', 2.4182569300183353e-05),\n",
       " ('parameters.dbkey_\"bosTau8\"', 1.8648891438140995e-05),\n",
       " ('parameters.dbkey_\"hg38\"', 1.2814587368645366e-05),\n",
       " ('parameters.range.mode_complete', 2.454440694057904e-07),\n",
       " ('parameters.dbkey_\"Arabidopsis_thaliana_TAIR10\"', 1.0178488708381555e-09),\n",
       " ('input_filetype_Sequences', 0.0),\n",
       " ('input_filetype_bam', 0.0),\n",
       " ('input_filetype_bed', 0.0),\n",
       " ('input_filetype_fastq', 0.0),\n",
       " ('input_filetype_fastqcssanger', 0.0),\n",
       " ('input_filetype_fastqsanger', 0.0),\n",
       " ('input_filetype_gd_snp', 0.0),\n",
       " ('input_filetype_maf', 0.0),\n",
       " ('input_filetype_sam', 0.0),\n",
       " ('input_filetype_sequences', 0.0),\n",
       " ('input_filetype_xls', 0.0),\n",
       " ('parameters.dbkey_\"10645\"', 0.0),\n",
       " ('parameters.dbkey_\"12997\"', 0.0),\n",
       " ('parameters.dbkey_\"16083\"', 0.0),\n",
       " ('parameters.dbkey_\"27835\"', 0.0),\n",
       " ('parameters.dbkey_\"63\"', 0.0),\n",
       " ('parameters.dbkey_\"AgamP3\"', 0.0),\n",
       " ('parameters.dbkey_\"Arabidopsis_v1\"', 0.0),\n",
       " ('parameters.dbkey_\"Bombyx_mori_p50T_2.0\"', 0.0),\n",
       " ('parameters.dbkey_\"Homo_sapiens_nuHg19_mtrCRS\"', 0.0),\n",
       " ('parameters.dbkey_\"Mt4\"', 0.0),\n",
       " ('parameters.dbkey_\"Schizosaccharomyces_pombe_1.1\"', 0.0),\n",
       " ('parameters.dbkey_\"T.vaginalis_v2.0\"', 0.0),\n",
       " ('parameters.dbkey_\"TRAC\"', 0.0),\n",
       " ('parameters.dbkey_\"Zea_mays_B73_RefGen_v2\"', 0.0),\n",
       " ('parameters.dbkey_\"acinSp_ADP1\"', 0.0),\n",
       " ('parameters.dbkey_\"allMis1\"', 0.0),\n",
       " ('parameters.dbkey_\"anoGam1\"', 0.0),\n",
       " ('parameters.dbkey_\"apiMel3\"', 0.0),\n",
       " ('parameters.dbkey_\"arabidopsis\"', 0.0),\n",
       " ('parameters.dbkey_\"baciSubt\"', 0.0),\n",
       " ('parameters.dbkey_\"bosTauMd3\"', 0.0),\n",
       " ('parameters.dbkey_\"braFlo1\"', 0.0),\n",
       " ('parameters.dbkey_\"calJac3\"', 0.0),\n",
       " ('parameters.dbkey_\"calMil1\"', 0.0),\n",
       " ('parameters.dbkey_\"canSat3\"', 0.0),\n",
       " ('parameters.dbkey_\"ce10\"', 0.0),\n",
       " ('parameters.dbkey_\"ce6\"', 0.0),\n",
       " ('parameters.dbkey_\"ce9\"', 0.0),\n",
       " ('parameters.dbkey_\"coxiBurn\"', 0.0),\n",
       " ('parameters.dbkey_\"criGri1\"', 0.0),\n",
       " ('parameters.dbkey_\"danRer7\"', 0.0),\n",
       " ('parameters.dbkey_\"dm6\"', 0.0),\n",
       " ('parameters.dbkey_\"dp3\"', 0.0),\n",
       " ('parameters.dbkey_\"droVir3\"', 0.0),\n",
       " ('parameters.dbkey_\"eboVir3\"', 0.0),\n",
       " ('parameters.dbkey_\"echTel2\"', 0.0),\n",
       " ('parameters.dbkey_\"equCab2\"', 0.0),\n",
       " ('parameters.dbkey_\"eriEur2\"', 0.0),\n",
       " ('parameters.dbkey_\"eschColi_BL21_DE3\"', 0.0),\n",
       " ('parameters.dbkey_\"eschColi_K12\"', 0.0),\n",
       " ('parameters.dbkey_\"falciparum\"', 0.0),\n",
       " ('parameters.dbkey_\"felCat5\"', 0.0),\n",
       " ('parameters.dbkey_\"galGal4\"', 0.0),\n",
       " ('parameters.dbkey_\"geoFor1\"', 0.0),\n",
       " ('parameters.dbkey_\"geobTher_NG80_2\"', 0.0),\n",
       " ('parameters.dbkey_\"hetGla2\"', 0.0),\n",
       " ('parameters.dbkey_\"hg19Patch10\"', 0.0),\n",
       " ('parameters.dbkey_\"hg19Patch2\"', 0.0),\n",
       " ('parameters.dbkey_\"hg19_rCRS_pUC18_phiX174\"', 0.0),\n",
       " ('parameters.dbkey_\"hg_g1k_v37\"', 0.0),\n",
       " ('parameters.dbkey_\"lotGig0\"', 0.0),\n",
       " ('parameters.dbkey_\"melGal1\"', 0.0),\n",
       " ('parameters.dbkey_\"melUnd1\"', 0.0),\n",
       " ('parameters.dbkey_\"micMur2\"', 0.0),\n",
       " ('parameters.dbkey_\"mm10Strains1\"', 0.0),\n",
       " ('parameters.dbkey_\"mm7\"', 0.0),\n",
       " ('parameters.dbkey_\"mm8\"', 0.0),\n",
       " ('parameters.dbkey_\"musFur1\"', 0.0),\n",
       " ('parameters.dbkey_\"myxoXant_DK_1622\"', 0.0),\n",
       " ('parameters.dbkey_\"neisGono_FA1090_1\"', 0.0),\n",
       " ('parameters.dbkey_\"nomLeu3\"', 0.0),\n",
       " ('parameters.dbkey_\"ochPri3\"', 0.0),\n",
       " ('parameters.dbkey_\"oryza_sativa_japonica_nipponbare_IRGSP4.0\"', 0.0),\n",
       " ('parameters.dbkey_\"otoGar3\"', 0.0),\n",
       " ('parameters.dbkey_\"oviAri3\"', 0.0),\n",
       " ('parameters.dbkey_\"panTro4\"', 0.0),\n",
       " ('parameters.dbkey_\"papAnu2\"', 0.0),\n",
       " ('parameters.dbkey_\"ponAbe2\"', 0.0),\n",
       " ('parameters.dbkey_\"proCap1\"', 0.0),\n",
       " ('parameters.dbkey_\"propAcne_KPA171202\"', 0.0),\n",
       " ('parameters.dbkey_\"rheMac3\"', 0.0),\n",
       " ('parameters.dbkey_\"rn5\"', 0.0),\n",
       " ('parameters.dbkey_\"rn6\"', 0.0),\n",
       " ('parameters.dbkey_\"sacCer1\"', 0.0),\n",
       " ('parameters.dbkey_\"sacCer3\"', 0.0),\n",
       " ('parameters.dbkey_\"saiBol1\"', 0.0),\n",
       " ('parameters.dbkey_\"sorAra2\"', 0.0),\n",
       " ('parameters.dbkey_\"strPur2\"', 0.0),\n",
       " ('parameters.dbkey_\"streCoel\"', 0.0),\n",
       " ('parameters.dbkey_\"synePCC6\"', 0.0),\n",
       " ('parameters.dbkey_\"tarSyr2\"', 0.0),\n",
       " ('parameters.dbkey_\"trepPall\"', 0.0),\n",
       " ('parameters.dbkey_\"triCas2\"', 0.0),\n",
       " ('parameters.dbkey_\"wolbEndo_OF_DROSOPHIL\"', 0.0),\n",
       " ('parameters.out_order_\"ALIGNED\"', 0.0)]"
      ]
     },
     "execution_count": 150,
     "metadata": {},
     "output_type": "execute_result"
    }
   ],
   "source": [
    "import operator\n",
    "sorted(fi.items(), key=operator.itemgetter(1), reverse=True)"
   ]
  },
  {
   "cell_type": "code",
   "execution_count": 24,
   "metadata": {},
   "outputs": [
    {
     "data": {
      "text/plain": [
       "float"
      ]
     },
     "execution_count": 24,
     "metadata": {},
     "output_type": "execute_result"
    }
   ],
   "source": [
    "type(np.nan)"
   ]
  },
  {
   "cell_type": "code",
   "execution_count": null,
   "metadata": {},
   "outputs": [],
   "source": []
  }
 ],
 "metadata": {
  "kernelspec": {
   "display_name": "Python 3",
   "language": "python",
   "name": "python3"
  },
  "language_info": {
   "codemirror_mode": {
    "name": "ipython",
    "version": 3
   },
   "file_extension": ".py",
   "mimetype": "text/x-python",
   "name": "python",
   "nbconvert_exporter": "python",
   "pygments_lexer": "ipython3",
   "version": "3.6.5"
  }
 },
 "nbformat": 4,
 "nbformat_minor": 2
}
